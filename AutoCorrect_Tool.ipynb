{
  "nbformat": 4,
  "nbformat_minor": 0,
  "metadata": {
    "colab": {
      "provenance": []
    },
    "kernelspec": {
      "name": "python3",
      "display_name": "Python 3"
    },
    "language_info": {
      "name": "python"
    }
  },
  "cells": [
    {
      "cell_type": "code",
      "execution_count": null,
      "metadata": {
        "id": "Z2eybV21LHQG"
      },
      "outputs": [],
      "source": [
        "import os\n",
        "import numpy as np\n",
        "import pandas as pd\n",
        "from collections import Counter\n",
        "import nltk"
      ]
    },
    {
      "cell_type": "code",
      "source": [
        "file_path = \"/content/words.txt\"\n",
        "with open(file_path, 'r', encoding='ISO-8859-1') as f:\n",
        "    file = f.readlines()"
      ],
      "metadata": {
        "id": "2e301H3uLOkw"
      },
      "execution_count": null,
      "outputs": []
    },
    {
      "cell_type": "code",
      "source": [
        "def process_data(lines):\n",
        "    words = []\n",
        "    for line in lines:\n",
        "        line = line.strip().lower()\n",
        "        #word = re.findall(r'\\w+', line)\n",
        "        word=line.split()\n",
        "        words.extend(word)\n",
        "    return words"
      ],
      "metadata": {
        "id": "3ia8G2dALZq8"
      },
      "execution_count": null,
      "outputs": []
    },
    {
      "cell_type": "code",
      "source": [
        "word_l = process_data(file)\n",
        "vocab = set(word_l)"
      ],
      "metadata": {
        "id": "woiO5aroLc1C"
      },
      "execution_count": null,
      "outputs": []
    },
    {
      "cell_type": "code",
      "source": [
        "def find_wrong_word(sent, vocab):\n",
        "    wrong_words = []\n",
        "    sent = sent.strip().lower().split(\" \")\n",
        "    for word in sent:\n",
        "        if word not in vocab:\n",
        "            wrong_words.append(word)\n",
        "    return wrong_words"
      ],
      "metadata": {
        "id": "F464Ny_9LfrF"
      },
      "execution_count": null,
      "outputs": []
    },
    {
      "cell_type": "code",
      "source": [
        "def switch_letter(word, verbose=False):\n",
        "    switch_l = []\n",
        "    split_l = [(word[:i], word[i:]) for i in range(len(word))]\n",
        "    for s in split_l:\n",
        "        if len(s[1])>2:\n",
        "            temp = s[0] + s[1][1] + s[1][0] + s[1][2:]\n",
        "        elif len(s[1]) == 2:\n",
        "            temp = s[0] + s[1][1] + s[1][0]\n",
        "        elif len(s[1]) == 1:\n",
        "            continue\n",
        "        switch_l.append(temp)\n",
        "    return switch_l"
      ],
      "metadata": {
        "id": "lx9cFlEwLimu"
      },
      "execution_count": null,
      "outputs": []
    },
    {
      "cell_type": "code",
      "source": [
        "def replace_letter(word, verbose=False):\n",
        "    letters = 'abcdefghijklmnopqrstuvwxyz'\n",
        "    replace_l = []\n",
        "    split_l = [(word[:i], word[i:]) for i in range(len(word))]\n",
        "    for s in split_l:\n",
        "        if len(s[1]) == 1:\n",
        "            for l in letters:\n",
        "                if l != s[1][0]:\n",
        "                    temp = l\n",
        "                    replace_l.append(s[0]+temp)\n",
        "        elif len(s) > 1:\n",
        "            for l in letters:\n",
        "                if l != s[1][0]:\n",
        "                    temp = l + s[1][1:]\n",
        "                    replace_l.append(s[0]+temp)\n",
        "\n",
        "    replace_set = set(replace_l)\n",
        "    replace_l = sorted(list(replace_set))\n",
        "    return replace_l"
      ],
      "metadata": {
        "id": "_qSnDr9JLlfu"
      },
      "execution_count": null,
      "outputs": []
    },
    {
      "cell_type": "code",
      "source": [
        "def insert_letter(word, verbose=False):\n",
        "    letters = 'abcdefghijklmnopqrstuvwxyz'\n",
        "    insert_l = []\n",
        "    split_l = [(word[:i], word[i:]) for i in range(len(word)+1)]\n",
        "    for s in split_l:\n",
        "        for l in letters:\n",
        "            insert_l.append(s[0]+l+s[1])\n",
        "    return insert_l"
      ],
      "metadata": {
        "id": "JNxDwxhVLohm"
      },
      "execution_count": null,
      "outputs": []
    },
    {
      "cell_type": "code",
      "source": [
        "def delete_letter(word, verbose=False):\n",
        "    split_l = [(word[:i], word[i:]) for i in range(len(word))]\n",
        "    delete_l = [s[0]+s[1][1:] for s in split_l]\n",
        "    return delete_l"
      ],
      "metadata": {
        "id": "2r8D1BLqLq7h"
      },
      "execution_count": null,
      "outputs": []
    },
    {
      "cell_type": "code",
      "source": [
        "def edit_one_letter(word, allow_switches = True):\n",
        "    edit_one_set = set()\n",
        "    insert_l = insert_letter(word)\n",
        "    delete_l = delete_letter(word)\n",
        "    replace_l = replace_letter(word)\n",
        "    switch_l = switch_letter(word)\n",
        "\n",
        "    if allow_switches:\n",
        "        ans = insert_l + delete_l + replace_l + switch_l\n",
        "    else:\n",
        "        ans = insert_l + delete_l + replace_l\n",
        "    edit_one_set = set(ans)\n",
        "    return edit_one_set"
      ],
      "metadata": {
        "id": "dvlQCB68Lub_"
      },
      "execution_count": null,
      "outputs": []
    },
    {
      "cell_type": "code",
      "source": [
        "def edit_two_letters(word, allow_switches = True):\n",
        "    edit_two_set = set()\n",
        "    one_edit = edit_one_letter(word)\n",
        "    ans = []\n",
        "    for w in one_edit:\n",
        "        ans.append(w)\n",
        "        ans.extend(edit_one_letter(w))\n",
        "    edit_two_set = set(ans)\n",
        "    return edit_two_set"
      ],
      "metadata": {
        "id": "pVce_4H9Lyhm"
      },
      "execution_count": null,
      "outputs": []
    },
    {
      "cell_type": "code",
      "source": [
        "def get_count(word_l):\n",
        "    word_count_dict = {}\n",
        "    word_count_dict = Counter(word_l)\n",
        "    return word_count_dict\n",
        "\n",
        "def get_probs(word_count_dict):\n",
        "    probs = {}\n",
        "    total = 1\n",
        "    for word in word_count_dict.keys():\n",
        "        total = total + word_count_dict[word]\n",
        "    for word in word_count_dict.keys():\n",
        "        probs[word] = word_count_dict[word]/total\n",
        "    return probs"
      ],
      "metadata": {
        "id": "spb6EPZ9L1Ee"
      },
      "execution_count": null,
      "outputs": []
    },
    {
      "cell_type": "code",
      "source": [
        "def get_corrections(word, probs, vocab, n=2, verbose = False):\n",
        "    suggestions = []\n",
        "    n_best = []\n",
        "    if word in probs.keys():\n",
        "        suggestions.append(word)\n",
        "    for w in edit_one_letter(word):\n",
        "        if len(suggestions) == n:\n",
        "            break\n",
        "        if w in probs.keys():\n",
        "            suggestions.append(w)\n",
        "    for w in edit_two_letters(word):\n",
        "        if len(suggestions) == n:\n",
        "            break\n",
        "        if w in probs.keys():\n",
        "             suggestions.append(w)\n",
        "    best_words = {}\n",
        "    for s in suggestions:\n",
        "        best_words[s] = probs[s]\n",
        "    best_words = sorted(best_words.items(), key=lambda x: x[1], reverse=True)\n",
        "    n_best = best_words\n",
        "    return n_best"
      ],
      "metadata": {
        "id": "djMZuJS8L4ZJ"
      },
      "execution_count": null,
      "outputs": []
    },
    {
      "cell_type": "code",
      "source": [
        "def get_correct_word(word, vocab, probs, n):\n",
        "    corrections = get_corrections(word, probs, vocab, n, verbose=False)\n",
        "    if len(corrections) == 0:\n",
        "        return word\n",
        "    final_word = corrections[0][0]\n",
        "    final_prob = corrections[0][1]\n",
        "    for i, word_prob in enumerate(corrections):\n",
        "        if word_prob[1] > final_prob:\n",
        "            final_word = word_prob[0]\n",
        "            final_prob = word_prob[1]\n",
        "    return final_word"
      ],
      "metadata": {
        "id": "7rYSPNgML55N"
      },
      "execution_count": null,
      "outputs": []
    },
    {
      "cell_type": "code",
      "source": [
        "def autocorrect(sentence, vocab, probs):\n",
        "    wrong_words = find_wrong_word(sentence, vocab)\n",
        "    #print(\"Wrong words : \", wrong_words)\n",
        "    correct_words = []\n",
        "    for word in sentence.strip().lower().split(\" \"):\n",
        "        if word in wrong_words:\n",
        "            correct_word = get_correct_word(word, vocab, probs, 15)\n",
        "            word = correct_word\n",
        "        correct_words.append(word)\n",
        "    print(\"The corrected Sentence : \", \" \".join(correct_words).capitalize())\n",
        "\n",
        "sent=input('Enter a sentence: ')\n",
        "wrong_words=find_wrong_word(sent, vocab)\n",
        "for W in wrong_words:\n",
        "    word_count_dict=get_count(word_l)\n",
        "    probs=get_probs(word_count_dict)\n",
        "autocorrect(sent,vocab,probs)"
      ],
      "metadata": {
        "colab": {
          "base_uri": "https://localhost:8080/"
        },
        "id": "J5trZc1bL891",
        "outputId": "64843a03-91e5-4cb4-f537-29c0f8e248b8"
      },
      "execution_count": null,
      "outputs": [
        {
          "output_type": "stream",
          "name": "stdout",
          "text": [
            "Enter a sentence: i am talkkin\n",
            "The corrected Sentence :  I am talking\n"
          ]
        }
      ]
    }
  ]
}